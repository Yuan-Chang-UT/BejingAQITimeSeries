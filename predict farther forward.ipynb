{
 "cells": [
  {
   "cell_type": "code",
   "execution_count": 1,
   "metadata": {},
   "outputs": [
    {
     "name": "stderr",
     "output_type": "stream",
     "text": [
      "Using TensorFlow backend.\n"
     ]
    }
   ],
   "source": [
    "from math import sqrt\n",
    "from numpy import concatenate\n",
    "from matplotlib import pyplot\n",
    "from pandas import read_csv\n",
    "from pandas import DataFrame\n",
    "from pandas import concat\n",
    "from sklearn.preprocessing import MinMaxScaler\n",
    "from sklearn.preprocessing import LabelEncoder\n",
    "from sklearn.metrics import mean_squared_error\n",
    "from keras.models import Sequential\n",
    "from keras.layers import Dense\n",
    "from keras.layers import LSTM\n",
    "import numpy as np\n",
    "import pandas as pd\n",
    "import time\n",
    "\n",
    "\n",
    "from random import randint\n",
    "from numpy import array\n",
    "from numpy import argmax\n",
    "from pandas import DataFrame\n",
    "from pandas import concat\n",
    "from keras.models import Sequential\n",
    "from keras.layers import LSTM\n",
    "from keras.layers import Dense\n",
    "from keras.layers import TimeDistributed\n",
    "from keras.layers import RepeatVector"
   ]
  },
  {
   "cell_type": "code",
   "execution_count": 2,
   "metadata": {},
   "outputs": [],
   "source": [
    "# convert series to supervised learning\n",
    "def series_to_supervised(data, n_in=1, n_out=1, dropnan=True):\n",
    "    n_vars = 1 if type(data) is list else data.shape[1]\n",
    "    df = DataFrame(data)\n",
    "    cols, names = list(), list()\n",
    "    # input sequence (t-n, ... t-1)\n",
    "    for i in range(n_in, 0, -1):\n",
    "        cols.append(df.shift(i))\n",
    "        names += [('var%d(t-%d)' % (j+1, i)) for j in range(n_vars)]\n",
    "    # forecast sequence (t, t+1, ... t+n)\n",
    "    for i in range(0, n_out):\n",
    "        cols.append(df.shift(-i))\n",
    "        if i == 0:\n",
    "            names += [('var%d(t)' % (j+1)) for j in range(n_vars)]\n",
    "        else:\n",
    "            names += [('var%d(t+%d)' % (j+1, i)) for j in range(n_vars)]\n",
    "    # put it all together\n",
    "    agg = concat(cols, axis=1)\n",
    "    agg.columns = names\n",
    "    # drop rows with NaN values\n",
    "    if dropnan:\n",
    "        agg.dropna(inplace=True)\n",
    "    return agg\n"
   ]
  },
  {
   "cell_type": "code",
   "execution_count": 3,
   "metadata": {},
   "outputs": [],
   "source": [
    "data = read_csv('PRSA_data_2010.1.1-2014.12.31.csv')\n",
    "data = data.drop('No', axis=1, inplace=False)\n",
    "data = data.drop(['year','month','day','hour'], axis=1, inplace=False)"
   ]
  },
  {
   "cell_type": "code",
   "execution_count": 4,
   "metadata": {},
   "outputs": [],
   "source": [
    "data.columns = ['pollution', 'dew', 'temp', 'press', 'wnd_dir', 'wnd_spd', 'snow', 'rain']"
   ]
  },
  {
   "cell_type": "code",
   "execution_count": 6,
   "metadata": {},
   "outputs": [
    {
     "name": "stdout",
     "output_type": "stream",
     "text": [
      "    pollution  dew  temp   press wnd_dir  wnd_spd  snow  rain\n",
      "48       90.0   -7  -6.0  1027.0      SE    58.56     4     0\n",
      "49       63.0   -8  -6.0  1026.0      SE    61.69     5     0\n",
      "50       65.0   -8  -7.0  1026.0      SE    65.71     6     0\n",
      "51       55.0   -8  -7.0  1025.0      SE    68.84     7     0\n",
      "52       65.0   -8  -7.0  1024.0      SE    72.86     8     0\n"
     ]
    }
   ],
   "source": [
    "# mark all NA values with 0\n",
    "data['pollution'].fillna(0, inplace=True)\n",
    "# drop the first 24 hours\n",
    "data = data[24:]\n",
    "data.head()\n",
    "# summarize first 5 rows\n",
    "print(data.head(5))\n",
    "# save to file\n",
    "#data.to_csv('pollution.csv')"
   ]
  },
  {
   "cell_type": "markdown",
   "metadata": {},
   "source": [
    "#"
   ]
  },
  {
   "cell_type": "code",
   "execution_count": 12,
   "metadata": {},
   "outputs": [
    {
     "name": "stdout",
     "output_type": "stream",
     "text": [
      "     var1(t-240)  var2(t-240)  var3(t-240)  var4(t-240)  var5(t-240)  \\\n",
      "240         90.0         -7.0         -6.0       1027.0          2.0   \n",
      "241         63.0         -8.0         -6.0       1026.0          2.0   \n",
      "242         65.0         -8.0         -7.0       1026.0          2.0   \n",
      "243         55.0         -8.0         -7.0       1025.0          2.0   \n",
      "244         65.0         -8.0         -7.0       1024.0          2.0   \n",
      "\n",
      "     var6(t-240)  var7(t-240)  var8(t-240)  var1(t-239)  var2(t-239)  ...  \\\n",
      "240    58.560001          4.0          0.0         63.0         -8.0  ...   \n",
      "241    61.689999          5.0          0.0         65.0         -8.0  ...   \n",
      "242    65.709999          6.0          0.0         55.0         -8.0  ...   \n",
      "243    68.839996          7.0          0.0         65.0         -8.0  ...   \n",
      "244    72.860001          8.0          0.0         83.0         -9.0  ...   \n",
      "\n",
      "     var8(t+69)  var1(t+70)  var2(t+70)  var3(t+70)  var4(t+70)  var5(t+70)  \\\n",
      "240         0.0        94.0       -14.0       -10.0      1037.0         3.0   \n",
      "241         0.0        87.0       -15.0       -11.0      1036.0         3.0   \n",
      "242         0.0       141.0       -15.0       -11.0      1036.0         3.0   \n",
      "243         0.0       211.0       -16.0       -13.0      1036.0         0.0   \n",
      "244         0.0       242.0       -16.0       -12.0      1036.0         3.0   \n",
      "\n",
      "     var6(t+70)  var7(t+70)  var8(t+70)  var1(t+71)  \n",
      "240        0.89         0.0         0.0        87.0  \n",
      "241        1.78         0.0         0.0       141.0  \n",
      "242        2.67         0.0         0.0       211.0  \n",
      "243        0.89         0.0         0.0       242.0  \n",
      "244        0.89         0.0         0.0       271.0  \n",
      "\n",
      "[5 rows x 2489 columns]\n",
      "(26280, 1, 2488) (26280,) (17185, 1, 2488) (17185,)\n",
      "Train on 26280 samples, validate on 17185 samples\n",
      "Epoch 1/10\n",
      "26280/26280 [==============================] - 10s 396us/step - loss: 0.0918 - val_loss: 0.0742\n",
      "Epoch 2/10\n",
      "26280/26280 [==============================] - 9s 351us/step - loss: 0.0735 - val_loss: 0.0733\n",
      "Epoch 3/10\n",
      "26280/26280 [==============================] - 8s 295us/step - loss: 0.0733 - val_loss: 0.0742\n",
      "Epoch 4/10\n",
      "26280/26280 [==============================] - 10s 379us/step - loss: 0.0736 - val_loss: 0.0736\n",
      "Epoch 5/10\n",
      "26280/26280 [==============================] - 9s 328us/step - loss: 0.0718 - val_loss: 0.0733\n",
      "Epoch 6/10\n",
      "26280/26280 [==============================] - 9s 337us/step - loss: 0.0715 - val_loss: 0.0733\n",
      "Epoch 7/10\n",
      "26280/26280 [==============================] - 9s 332us/step - loss: 0.0712 - val_loss: 0.0727\n",
      "Epoch 8/10\n",
      "26280/26280 [==============================] - 9s 337us/step - loss: 0.0712 - val_loss: 0.0727\n",
      "Epoch 9/10\n",
      "26280/26280 [==============================] - 9s 342us/step - loss: 0.0710 - val_loss: 0.0721\n",
      "Epoch 10/10\n",
      "26280/26280 [==============================] - 9s 335us/step - loss: 0.0707 - val_loss: 0.0721\n"
     ]
    }
   ],
   "source": [
    "# load dataset\n",
    "dataset = read_csv('pollution.csv', header=0, index_col=0)\n",
    "values = dataset.values\n",
    "# integer encode direction\n",
    "encoder = LabelEncoder()\n",
    "values[:,4] = encoder.fit_transform(values[:,4])\n",
    "# ensure all data is float\n",
    "values = values.astype('float32')\n",
    "\n",
    "#use last 10 days of data (240 hours) to predict specifically the pollution 10 days from now (240 hours later)\n",
    "num_days_back = 10\n",
    "hrs_per_day = 24\n",
    "num_days_ahead = 3\n",
    "reframed = series_to_supervised(values, num_days_back*hrs_per_day, num_days_ahead*hrs_per_day)\n",
    "# drop columns we don't want to predict\n",
    "reframed.drop(reframed.columns[[-7,-6,-5,-4,-3,-2,-1]], axis=1, inplace=True)\n",
    "print(reframed.head())\n",
    "\n",
    "# split into train and test sets\n",
    "values = reframed.values\n",
    "#values = scaled\n",
    "scaler = MinMaxScaler(feature_range=(0, 1))\n",
    "scaled_features = scaler.fit_transform(values[:,:-1])\n",
    "scaled_label = scaler.fit_transform(values[:,-1].reshape(-1,1))\n",
    "values = np.column_stack((scaled_features, scaled_label))\n",
    "\n",
    "train = values[:n_train_hours, :]\n",
    "test = values[n_train_hours:, :] #make test set 1 year worth of data\n",
    "# split into input and outputs\n",
    "train_X, train_y = train[:, :-1], train[:, -1]\n",
    "test_X, test_y = test[:, :-1], test[:, -1]\n",
    "# reshape input to be 3D [samples, timesteps, features]\n",
    "train_X = train_X.reshape((train_X.shape[0], 1, train_X.shape[1]))\n",
    "test_X = test_X.reshape((test_X.shape[0], 1, test_X.shape[1]))\n",
    "print(train_X.shape, train_y.shape, test_X.shape, test_y.shape)\n"
   ]
  },
  {
   "cell_type": "code",
   "execution_count": 13,
   "metadata": {},
   "outputs": [
    {
     "name": "stdout",
     "output_type": "stream",
     "text": [
      "Model: \"sequential_12\"\n",
      "_________________________________________________________________\n",
      "Layer (type)                 Output Shape              Param #   \n",
      "=================================================================\n",
      "lstm_12 (LSTM)               (None, 128)               1339904   \n",
      "_________________________________________________________________\n",
      "dense_21 (Dense)             (None, 50)                6450      \n",
      "_________________________________________________________________\n",
      "dense_22 (Dense)             (None, 1)                 51        \n",
      "=================================================================\n",
      "Total params: 1,346,405\n",
      "Trainable params: 1,346,405\n",
      "Non-trainable params: 0\n",
      "_________________________________________________________________\n"
     ]
    }
   ],
   "source": [
    "model.summary()"
   ]
  },
  {
   "cell_type": "code",
   "execution_count": 14,
   "metadata": {},
   "outputs": [],
   "source": [
    "yhat = model.predict(test_X)"
   ]
  },
  {
   "cell_type": "code",
   "execution_count": 15,
   "metadata": {},
   "outputs": [
    {
     "data": {
      "text/plain": [
       "(17185, 1)"
      ]
     },
     "execution_count": 15,
     "metadata": {},
     "output_type": "execute_result"
    }
   ],
   "source": [
    "yhat.shape"
   ]
  },
  {
   "cell_type": "code",
   "execution_count": null,
   "metadata": {},
   "outputs": [],
   "source": [
    "# plot history\n",
    "pyplot.plot(history.history['loss'], label='train')\n",
    "pyplot.plot(history.history['val_loss'], label='test')\n",
    "pyplot.legend()\n",
    "pyplot.show()\n",
    "\n",
    "\n",
    "# make a prediction\n",
    "yhat = model.predict(test_X)\n",
    "test_X = test_X.reshape((test_X.shape[0], test_X.shape[2]))\n",
    "# invert scaling for forecast\n",
    "inv_yhat = concatenate((yhat, test_X[:, 1:]), axis=1)\n",
    "inv_yhat = scaler.inverse_transform(inv_yhat)\n",
    "inv_yhat = inv_yhat[:,0]\n",
    "# invert scaling for actual\n",
    "test_y = test_y.reshape((len(test_y), 1))\n",
    "inv_y = concatenate((test_y, test_X[:, 1:]), axis=1)\n",
    "inv_y = scaler.inverse_transform(inv_y)\n",
    "inv_y = inv_y[:,0]\n",
    "end = time.time()\n",
    "print('This took {} seconds.'.format(end - start))\n",
    "# calculate RMSE\n",
    "print(\"Activation function = {}, Loss type = {}\\n\".format(act_fctn, loss_fctn))\n",
    "rmse = sqrt(mean_squared_error(inv_y, inv_yhat))\n",
    "print('Test RMSE: %.3f' % rmse) \n",
    "return rmse"
   ]
  },
  {
   "cell_type": "code",
   "execution_count": null,
   "metadata": {},
   "outputs": [],
   "source": [
    "#print('hiii')\n",
    "#print(scaled)\n",
    "# design network\n",
    "model = Sequential()\n",
    "model.add(LSTM(128, input_shape=(train_X.shape[1], train_X.shape[2])))\n",
    "model.add(Dense(50, activation='tanh'))\n",
    "model.add(Dense(1))\n",
    "model.compile(loss='mae', optimizer='adam')\n",
    "# fit network\n",
    "start = time.time()\n",
    "\n",
    "\n",
    "history = model.fit(train_X, train_y, epochs=10, batch_size=72, validation_data=(test_X, test_y), \n",
    "                    verbose=1, shuffle=False)"
   ]
  },
  {
   "cell_type": "code",
   "execution_count": 8,
   "metadata": {},
   "outputs": [
    {
     "name": "stdout",
     "output_type": "stream",
     "text": [
      "WARNING:tensorflow:From /Users/andychang/anaconda3/lib/python3.7/site-packages/tensorflow/python/framework/op_def_library.py:263: colocate_with (from tensorflow.python.framework.ops) is deprecated and will be removed in a future version.\n",
      "Instructions for updating:\n",
      "Colocations handled automatically by placer.\n",
      "WARNING:tensorflow:From /Users/andychang/anaconda3/lib/python3.7/site-packages/tensorflow/python/ops/math_ops.py:3066: to_int32 (from tensorflow.python.ops.math_ops) is deprecated and will be removed in a future version.\n",
      "Instructions for updating:\n",
      "Use tf.cast instead.\n"
     ]
    },
    {
     "name": "stderr",
     "output_type": "stream",
     "text": [
      "/Users/andychang/anaconda3/lib/python3.7/site-packages/ipykernel_launcher.py:11: UserWarning: The `nb_epoch` argument in `fit` has been renamed `epochs`.\n",
      "  # This is added back by InteractiveShellApp.init_path()\n"
     ]
    },
    {
     "name": "stdout",
     "output_type": "stream",
     "text": [
      "Train on 26280 samples, validate on 17185 samples\n",
      "Epoch 1/10\n",
      "26280/26280 [==============================] - 10s 364us/step - loss: 0.0754 - val_loss: 0.0674\n",
      "Epoch 2/10\n",
      "26280/26280 [==============================] - 9s 325us/step - loss: 0.0675 - val_loss: 0.0676\n",
      "Epoch 3/10\n",
      "26280/26280 [==============================] - 9s 339us/step - loss: 0.0683 - val_loss: 0.0701\n",
      "Epoch 4/10\n",
      "26280/26280 [==============================] - 9s 340us/step - loss: 0.0673 - val_loss: 0.0712\n",
      "Epoch 5/10\n",
      "26280/26280 [==============================] - 8s 321us/step - loss: 0.0647 - val_loss: 0.0711\n",
      "Epoch 6/10\n",
      "26280/26280 [==============================] - 9s 342us/step - loss: 0.0625 - val_loss: 0.0671\n",
      "Epoch 7/10\n",
      "26280/26280 [==============================] - 15s 584us/step - loss: 0.0542 - val_loss: 0.0678\n",
      "Epoch 8/10\n",
      "26280/26280 [==============================] - 13s 509us/step - loss: 0.0504 - val_loss: 0.0715\n",
      "Epoch 9/10\n",
      "26280/26280 [==============================] - 9s 338us/step - loss: 0.0483 - val_loss: 0.0762\n",
      "Epoch 10/10\n",
      "26280/26280 [==============================] - 11s 422us/step - loss: 0.0462 - val_loss: 0.0779\n"
     ]
    },
    {
     "data": {
      "image/png": "[encoded data removed]",
      "text/plain": [
       "<Figure size 432x288 with 1 Axes>"
      ]
     },
     "metadata": {
      "needs_background": "light"
     },
     "output_type": "display_data"
    },
    {
     "name": "stdout",
     "output_type": "stream",
     "text": [
      "This took 105.2099359035492 seconds.\n",
      "Activation function = relu, Loss type = mae\n",
      "\n",
      "Test RMSE: 95.752\n"
     ]
    },
    {
     "name": "stderr",
     "output_type": "stream",
     "text": [
      "/Users/andychang/anaconda3/lib/python3.7/site-packages/ipykernel_launcher.py:11: UserWarning: The `nb_epoch` argument in `fit` has been renamed `epochs`.\n",
      "  # This is added back by InteractiveShellApp.init_path()\n"
     ]
    },
    {
     "name": "stdout",
     "output_type": "stream",
     "text": [
      "Train on 26280 samples, validate on 17185 samples\n",
      "Epoch 1/10\n",
      "26280/26280 [==============================] - 10s 389us/step - loss: 0.0177 - val_loss: 0.0081\n",
      "Epoch 2/10\n",
      "26280/26280 [==============================] - 10s 384us/step - loss: 0.0084 - val_loss: 0.0074\n",
      "Epoch 3/10\n",
      "26280/26280 [==============================] - 11s 433us/step - loss: 0.0067 - val_loss: 0.0108\n",
      "Epoch 4/10\n",
      "26280/26280 [==============================] - 10s 392us/step - loss: 0.0054 - val_loss: 0.0161\n",
      "Epoch 5/10\n",
      "26280/26280 [==============================] - 9s 340us/step - loss: 0.0049 - val_loss: 0.0109\n",
      "Epoch 6/10\n",
      "26280/26280 [==============================] - 9s 340us/step - loss: 0.0043 - val_loss: 0.0057\n",
      "Epoch 7/10\n",
      "26280/26280 [==============================] - 10s 363us/step - loss: 0.0039 - val_loss: 0.0035\n",
      "Epoch 8/10\n",
      "26280/26280 [==============================] - 10s 368us/step - loss: 0.0036 - val_loss: 0.0033\n",
      "Epoch 9/10\n",
      "26280/26280 [==============================] - 9s 336us/step - loss: 0.0033 - val_loss: 0.0042\n",
      "Epoch 10/10\n",
      "26280/26280 [==============================] - 10s 364us/step - loss: 0.0031 - val_loss: 0.0050\n"
     ]
    },
    {
     "data": {
      "image/png": "[encoded data removed]",
      "text/plain": [
       "<Figure size 432x288 with 1 Axes>"
      ]
     },
     "metadata": {
      "needs_background": "light"
     },
     "output_type": "display_data"
    },
    {
     "name": "stdout",
     "output_type": "stream",
     "text": [
      "This took 100.79571294784546 seconds.\n",
      "Activation function = relu, Loss type = mse\n",
      "\n",
      "Test RMSE: 70.035\n"
     ]
    },
    {
     "name": "stderr",
     "output_type": "stream",
     "text": [
      "/Users/andychang/anaconda3/lib/python3.7/site-packages/ipykernel_launcher.py:11: UserWarning: The `nb_epoch` argument in `fit` has been renamed `epochs`.\n",
      "  # This is added back by InteractiveShellApp.init_path()\n"
     ]
    },
    {
     "name": "stdout",
     "output_type": "stream",
     "text": [
      "Train on 26280 samples, validate on 17185 samples\n",
      "Epoch 1/10\n",
      "26280/26280 [==============================] - 11s 406us/step - loss: 0.0811 - val_loss: 0.1076\n",
      "Epoch 2/10\n",
      "26280/26280 [==============================] - 9s 354us/step - loss: 0.0668 - val_loss: 0.0802\n",
      "Epoch 3/10\n",
      "26280/26280 [==============================] - 9s 334us/step - loss: 0.0623 - val_loss: 0.0728\n",
      "Epoch 4/10\n",
      "26280/26280 [==============================] - 9s 336us/step - loss: 0.0584 - val_loss: 0.0648\n",
      "Epoch 5/10\n",
      "26280/26280 [==============================] - 10s 383us/step - loss: 0.0529 - val_loss: 0.0750\n",
      "Epoch 6/10\n",
      "26280/26280 [==============================] - 10s 391us/step - loss: 0.0494 - val_loss: 0.0803\n",
      "Epoch 7/10\n",
      "26280/26280 [==============================] - 10s 398us/step - loss: 0.0447 - val_loss: 0.0682\n",
      "Epoch 8/10\n",
      "26280/26280 [==============================] - 9s 339us/step - loss: 0.0451 - val_loss: 0.0677\n",
      "Epoch 9/10\n",
      "26280/26280 [==============================] - 8s 323us/step - loss: 0.0440 - val_loss: 0.0647\n",
      "Epoch 10/10\n",
      "26280/26280 [==============================] - 8s 318us/step - loss: 0.0463 - val_loss: 0.0556\n"
     ]
    },
    {
     "data": {
      "image/png": "[encoded data removed]",
      "text/plain": [
       "<Figure size 432x288 with 1 Axes>"
      ]
     },
     "metadata": {
      "needs_background": "light"
     },
     "output_type": "display_data"
    },
    {
     "name": "stdout",
     "output_type": "stream",
     "text": [
      "This took 97.05134892463684 seconds.\n",
      "Activation function = sigmoid, Loss type = mae\n",
      "\n",
      "Test RMSE: 73.935\n"
     ]
    },
    {
     "name": "stderr",
     "output_type": "stream",
     "text": [
      "/Users/andychang/anaconda3/lib/python3.7/site-packages/ipykernel_launcher.py:11: UserWarning: The `nb_epoch` argument in `fit` has been renamed `epochs`.\n",
      "  # This is added back by InteractiveShellApp.init_path()\n"
     ]
    },
    {
     "name": "stdout",
     "output_type": "stream",
     "text": [
      "Train on 26280 samples, validate on 17185 samples\n",
      "Epoch 1/10\n",
      "26280/26280 [==============================] - 10s 375us/step - loss: 0.0130 - val_loss: 0.0069\n",
      "Epoch 2/10\n",
      "26280/26280 [==============================] - 9s 347us/step - loss: 0.0088 - val_loss: 0.0058\n",
      "Epoch 3/10\n",
      "26280/26280 [==============================] - 9s 324us/step - loss: 0.0065 - val_loss: 0.0050\n",
      "Epoch 4/10\n",
      "26280/26280 [==============================] - 8s 312us/step - loss: 0.0053 - val_loss: 0.0071\n",
      "Epoch 5/10\n",
      "26280/26280 [==============================] - 8s 313us/step - loss: 0.0046 - val_loss: 0.0110\n",
      "Epoch 6/10\n",
      "26280/26280 [==============================] - 9s 335us/step - loss: 0.0044 - val_loss: 0.0097\n",
      "Epoch 7/10\n",
      "26280/26280 [==============================] - 8s 323us/step - loss: 0.0042 - val_loss: 0.0098\n",
      "Epoch 8/10\n",
      "26280/26280 [==============================] - 9s 346us/step - loss: 0.0037 - val_loss: 0.0120\n",
      "Epoch 9/10\n",
      "26280/26280 [==============================] - 9s 354us/step - loss: 0.0035 - val_loss: 0.0092\n",
      "Epoch 10/10\n",
      "26280/26280 [==============================] - 9s 358us/step - loss: 0.0035 - val_loss: 0.0111\n"
     ]
    },
    {
     "data": {
      "image/png": "[encoded data removed]",
      "text/plain": [
       "<Figure size 432x288 with 1 Axes>"
      ]
     },
     "metadata": {
      "needs_background": "light"
     },
     "output_type": "display_data"
    },
    {
     "name": "stdout",
     "output_type": "stream",
     "text": [
      "This took 91.889719247818 seconds.\n",
      "Activation function = sigmoid, Loss type = mse\n",
      "\n",
      "Test RMSE: 104.549\n"
     ]
    },
    {
     "name": "stderr",
     "output_type": "stream",
     "text": [
      "/Users/andychang/anaconda3/lib/python3.7/site-packages/ipykernel_launcher.py:11: UserWarning: The `nb_epoch` argument in `fit` has been renamed `epochs`.\n",
      "  # This is added back by InteractiveShellApp.init_path()\n"
     ]
    },
    {
     "name": "stdout",
     "output_type": "stream",
     "text": [
      "Train on 26280 samples, validate on 17185 samples\n",
      "Epoch 1/10\n",
      "26280/26280 [==============================] - 10s 369us/step - loss: 0.0675 - val_loss: 0.0679\n",
      "Epoch 2/10\n",
      "26280/26280 [==============================] - 9s 341us/step - loss: 0.0669 - val_loss: 0.0676\n",
      "Epoch 3/10\n",
      "26280/26280 [==============================] - 9s 343us/step - loss: 0.0671 - val_loss: 0.0680\n",
      "Epoch 4/10\n",
      "26280/26280 [==============================] - 9s 345us/step - loss: 0.0671 - val_loss: 0.0678\n",
      "Epoch 5/10\n",
      "26280/26280 [==============================] - 9s 347us/step - loss: 0.0671 - val_loss: 0.0677\n",
      "Epoch 6/10\n",
      "26280/26280 [==============================] - 9s 341us/step - loss: 0.0672 - val_loss: 0.0676\n",
      "Epoch 7/10\n",
      "26280/26280 [==============================] - 9s 352us/step - loss: 0.0671 - val_loss: 0.0676\n",
      "Epoch 8/10\n",
      "26280/26280 [==============================] - 9s 358us/step - loss: 0.0672 - val_loss: 0.0675\n",
      "Epoch 9/10\n",
      "26280/26280 [==============================] - 12s 439us/step - loss: 0.0672 - val_loss: 0.0674\n",
      "Epoch 10/10\n",
      "26280/26280 [==============================] - 10s 392us/step - loss: 0.0672 - val_loss: 0.0674\n"
     ]
    },
    {
     "data": {
      "image/png": "[encoded data removed]",
      "text/plain": [
       "<Figure size 432x288 with 1 Axes>"
      ]
     },
     "metadata": {
      "needs_background": "light"
     },
     "output_type": "display_data"
    },
    {
     "name": "stdout",
     "output_type": "stream",
     "text": [
      "This took 98.0994303226471 seconds.\n",
      "Activation function = softmax, Loss type = mae\n",
      "\n",
      "Test RMSE: 102.667\n"
     ]
    },
    {
     "name": "stderr",
     "output_type": "stream",
     "text": [
      "/Users/andychang/anaconda3/lib/python3.7/site-packages/ipykernel_launcher.py:11: UserWarning: The `nb_epoch` argument in `fit` has been renamed `epochs`.\n",
      "  # This is added back by InteractiveShellApp.init_path()\n"
     ]
    },
    {
     "name": "stdout",
     "output_type": "stream",
     "text": [
      "Train on 26280 samples, validate on 17185 samples\n",
      "Epoch 1/10\n",
      "26280/26280 [==============================] - 9s 352us/step - loss: 0.0090 - val_loss: 0.0086\n",
      "Epoch 2/10\n",
      "26280/26280 [==============================] - 8s 303us/step - loss: 0.0088 - val_loss: 0.0087\n",
      "Epoch 3/10\n",
      "26280/26280 [==============================] - 9s 338us/step - loss: 0.0088 - val_loss: 0.0087\n",
      "Epoch 4/10\n",
      "26280/26280 [==============================] - 9s 333us/step - loss: 0.0088 - val_loss: 0.0087\n",
      "Epoch 5/10\n",
      "26280/26280 [==============================] - 8s 323us/step - loss: 0.0088 - val_loss: 0.0087\n",
      "Epoch 6/10\n",
      "26280/26280 [==============================] - 9s 344us/step - loss: 0.0088 - val_loss: 0.0087\n",
      "Epoch 7/10\n",
      "26280/26280 [==============================] - 10s 386us/step - loss: 0.0088 - val_loss: 0.0087\n",
      "Epoch 8/10\n",
      "26280/26280 [==============================] - 11s 424us/step - loss: 0.0088 - val_loss: 0.0087\n",
      "Epoch 9/10\n",
      "26280/26280 [==============================] - 9s 343us/step - loss: 0.0088 - val_loss: 0.0087\n",
      "Epoch 10/10\n",
      "26280/26280 [==============================] - 10s 381us/step - loss: 0.0088 - val_loss: 0.0087\n"
     ]
    },
    {
     "data": {
      "image/png": "[encoded data removed]",
      "text/plain": [
       "<Figure size 432x288 with 1 Axes>"
      ]
     },
     "metadata": {
      "needs_background": "light"
     },
     "output_type": "display_data"
    },
    {
     "name": "stdout",
     "output_type": "stream",
     "text": [
      "This took 95.63454222679138 seconds.\n",
      "Activation function = softmax, Loss type = mse\n",
      "\n",
      "Test RMSE: 92.891\n"
     ]
    },
    {
     "name": "stderr",
     "output_type": "stream",
     "text": [
      "/Users/andychang/anaconda3/lib/python3.7/site-packages/ipykernel_launcher.py:11: UserWarning: The `nb_epoch` argument in `fit` has been renamed `epochs`.\n",
      "  # This is added back by InteractiveShellApp.init_path()\n"
     ]
    },
    {
     "name": "stdout",
     "output_type": "stream",
     "text": [
      "Train on 26280 samples, validate on 17185 samples\n",
      "Epoch 1/10\n",
      "26280/26280 [==============================] - 11s 431us/step - loss: 0.0815 - val_loss: 0.0678\n",
      "Epoch 2/10\n",
      "26280/26280 [==============================] - 10s 372us/step - loss: 0.0695 - val_loss: 0.0647\n",
      "Epoch 3/10\n",
      "26280/26280 [==============================] - 9s 336us/step - loss: 0.0667 - val_loss: 0.0676\n",
      "Epoch 4/10\n",
      "26280/26280 [==============================] - 9s 334us/step - loss: 0.0675 - val_loss: 0.0676\n",
      "Epoch 5/10\n",
      "26280/26280 [==============================] - 8s 306us/step - loss: 0.0675 - val_loss: 0.0675\n",
      "Epoch 6/10\n",
      "26280/26280 [==============================] - 8s 307us/step - loss: 0.0674 - val_loss: 0.0677\n",
      "Epoch 7/10\n",
      "26280/26280 [==============================] - 9s 323us/step - loss: 0.0674 - val_loss: 0.0678\n",
      "Epoch 8/10\n",
      "26280/26280 [==============================] - 8s 320us/step - loss: 0.0673 - val_loss: 0.0679\n",
      "Epoch 9/10\n",
      "26280/26280 [==============================] - 9s 333us/step - loss: 0.0673 - val_loss: 0.0679\n",
      "Epoch 10/10\n",
      "26280/26280 [==============================] - 9s 335us/step - loss: 0.0672 - val_loss: 0.0679\n"
     ]
    },
    {
     "data": {
      "image/png": "[encoded data removed]",
      "text/plain": [
       "<Figure size 432x288 with 1 Axes>"
      ]
     },
     "metadata": {
      "needs_background": "light"
     },
     "output_type": "display_data"
    },
    {
     "name": "stdout",
     "output_type": "stream",
     "text": [
      "This took 92.15767216682434 seconds.\n",
      "Activation function = tanh, Loss type = mae\n",
      "\n",
      "Test RMSE: 103.648\n"
     ]
    },
    {
     "name": "stderr",
     "output_type": "stream",
     "text": [
      "/Users/andychang/anaconda3/lib/python3.7/site-packages/ipykernel_launcher.py:11: UserWarning: The `nb_epoch` argument in `fit` has been renamed `epochs`.\n",
      "  # This is added back by InteractiveShellApp.init_path()\n"
     ]
    },
    {
     "name": "stdout",
     "output_type": "stream",
     "text": [
      "Train on 26280 samples, validate on 17185 samples\n",
      "Epoch 1/10\n",
      "26280/26280 [==============================] - 13s 497us/step - loss: 0.0255 - val_loss: 0.0086\n",
      "Epoch 2/10\n",
      "26280/26280 [==============================] - 9s 335us/step - loss: 0.0100 - val_loss: 0.0086\n",
      "Epoch 3/10\n",
      "26280/26280 [==============================] - 9s 356us/step - loss: 0.0101 - val_loss: 0.0086\n",
      "Epoch 4/10\n",
      "26280/26280 [==============================] - 9s 345us/step - loss: 0.0101 - val_loss: 0.0086\n",
      "Epoch 5/10\n",
      "26280/26280 [==============================] - 8s 316us/step - loss: 0.0101 - val_loss: 0.0086\n",
      "Epoch 6/10\n",
      "26280/26280 [==============================] - 9s 336us/step - loss: 0.0098 - val_loss: 0.0086\n",
      "Epoch 7/10\n",
      "26280/26280 [==============================] - 9s 350us/step - loss: 0.0101 - val_loss: 0.0086\n",
      "Epoch 8/10\n",
      "26280/26280 [==============================] - 9s 324us/step - loss: 0.0100 - val_loss: 0.0085\n",
      "Epoch 9/10\n",
      "26280/26280 [==============================] - 8s 305us/step - loss: 0.0099 - val_loss: 0.0086\n",
      "Epoch 10/10\n",
      "26280/26280 [==============================] - 8s 313us/step - loss: 0.0099 - val_loss: 0.0086\n"
     ]
    },
    {
     "data": {
      "image/png": "[encoded data removed]",
      "text/plain": [
       "<Figure size 432x288 with 1 Axes>"
      ]
     },
     "metadata": {
      "needs_background": "light"
     },
     "output_type": "display_data"
    },
    {
     "name": "stdout",
     "output_type": "stream",
     "text": [
      "This took 94.0058970451355 seconds.\n",
      "Activation function = tanh, Loss type = mse\n",
      "\n",
      "Test RMSE: 92.216\n",
      "[95.75206529267398, 70.0354681349029, 73.93496072879697, 104.54919035136045, 102.66706564028944, 92.89115459268713, 103.64809566207668, 92.21588016544385]\n"
     ]
    }
   ],
   "source": [
    "\n",
    "def try_lstm(train_X, train_y, test_X, test_y, act_fctn, loss_fctn):\n",
    "    model = Sequential()\n",
    "    model.add(LSTM(128, input_shape=(train_X.shape[1], train_X.shape[2])))\n",
    "    model.add(Dense(50, activation=act_fctn))\n",
    "    model.add(Dense(1))\n",
    "    model.compile(loss=loss_fctn, optimizer='adam')\n",
    "    # fit network\n",
    "    start = time.time()\n",
    "    \n",
    "    history = model.fit(train_X, train_y, epochs=10, batch_size=72, validation_data=(test_X, test_y), \n",
    "                        verbose=1, shuffle=False)\n",
    "    # plot history\n",
    "    pyplot.plot(history.history['loss'], label='train')\n",
    "    pyplot.plot(history.history['val_loss'], label='test')\n",
    "    pyplot.legend()\n",
    "    pyplot.show()\n",
    "\n",
    "    # make a prediction\n",
    "    yhat = model.predict(test_X)\n",
    "    test_X = test_X.reshape((test_X.shape[0], test_X.shape[2]))\n",
    "    # invert scaling for forecast\n",
    "    inv_yhat = concatenate((yhat, test_X[:, 1:]), axis=1)\n",
    "    inv_yhat = scaler.inverse_transform(inv_yhat)\n",
    "    inv_yhat = inv_yhat[:,0]\n",
    "    # invert scaling for actual\n",
    "    test_y = test_y.reshape((len(test_y), 1))\n",
    "    inv_y = concatenate((test_y, test_X[:, 1:]), axis=1)\n",
    "    inv_y = scaler.inverse_transform(inv_y)\n",
    "    inv_y = inv_y[:,0]\n",
    "    end = time.time()\n",
    "    print('This took {} seconds.'.format(end - start))\n",
    "    # calculate RMSE\n",
    "    print(\"Activation function = {}, Loss type = {}\\n\".format(act_fctn, loss_fctn))\n",
    "    rmse = sqrt(mean_squared_error(inv_y, inv_yhat))\n",
    "    print('Test RMSE: %.3f' % rmse) \n",
    "    return rmse\n",
    "    \n",
    "\n",
    "def try_diff_lstms(train_X, train_y, test_X, test_y):\n",
    "    act_fctn_list = ['relu', 'sigmoid', 'softmax', 'tanh']\n",
    "    loss_list = ['mae', 'mse']\n",
    "    rmse_list = []\n",
    "    rmse = 0.0\n",
    "    for act_fctn in act_fctn_list:\n",
    "        for loss in loss_list:\n",
    "            rmse = try_lstm(train_X, train_y, test_X, test_y, str(act_fctn), str(loss))\n",
    "            rmse_list += [rmse,]\n",
    "    print(rmse_list)\n",
    "    \n",
    "    \n",
    "\n",
    "n_train_hours = (365 * 24) * 3 #make training set 3 years worth of data\n",
    "train = values[:n_train_hours, :]\n",
    "test = values[n_train_hours:, :] #make test set 1 year worth of data\n",
    "\n",
    "\n",
    "# split into input and outputs\n",
    "train_X, train_y = train[:, :-1], train[:, -1]\n",
    "test_X, test_y = test[:, :-1], test[:, -1]\n",
    "\n",
    "\n",
    "# reshape input to be 3D [samples, timesteps, features]\n",
    "train_X = train_X.reshape((train_X.shape[0], 1, train_X.shape[1]))\n",
    "test_X = test_X.reshape((test_X.shape[0], 1, test_X.shape[1]))\n",
    "#print(train_X.shape, train_y.shape, test_X.shape, test_y.shape)\n",
    "try_diff_lstms(train_X, train_y, test_X, test_y)"
   ]
  },
  {
   "cell_type": "code",
   "execution_count": 10,
   "metadata": {},
   "outputs": [
    {
     "name": "stdout",
     "output_type": "stream",
     "text": [
      "Model: \"sequential_10\"\n",
      "_________________________________________________________________\n",
      "Layer (type)                 Output Shape              Param #   \n",
      "=================================================================\n",
      "lstm_10 (LSTM)               (None, 128)               1339904   \n",
      "_________________________________________________________________\n",
      "dense_17 (Dense)             (None, 50)                6450      \n",
      "_________________________________________________________________\n",
      "dense_18 (Dense)             (None, 1)                 51        \n",
      "=================================================================\n",
      "Total params: 1,346,405\n",
      "Trainable params: 1,346,405\n",
      "Non-trainable params: 0\n",
      "_________________________________________________________________\n"
     ]
    }
   ],
   "source": [
    "model = Sequential()\n",
    "model.add(LSTM(128, input_shape=(train_X.shape[1], train_X.shape[2])))\n",
    "model.add(Dense(50, activation='tanh'))\n",
    "model.add(Dense(1))\n",
    "\n",
    "model.summary()"
   ]
  },
  {
   "cell_type": "code",
   "execution_count": null,
   "metadata": {},
   "outputs": [],
   "source": []
  }
 ],
 "metadata": {
  "kernelspec": {
   "display_name": "Python 3",
   "language": "python",
   "name": "python3"
  },
  "language_info": {
   "codemirror_mode": {
    "name": "ipython",
    "version": 3
   },
   "file_extension": ".py",
   "mimetype": "text/x-python",
   "name": "python",
   "nbconvert_exporter": "python",
   "pygments_lexer": "ipython3",
   "version": "3.7.3"
  }
 },
 "nbformat": 4,
 "nbformat_minor": 2
}
