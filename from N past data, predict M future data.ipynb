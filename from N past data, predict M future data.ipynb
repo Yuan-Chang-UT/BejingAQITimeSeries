{
 "cells": [
  {
   "cell_type": "code",
   "execution_count": 161,
   "metadata": {},
   "outputs": [],
   "source": [
    "from math import sqrt\n",
    "from numpy import concatenate\n",
    "from matplotlib import pyplot\n",
    "from pandas import read_csv\n",
    "from pandas import DataFrame\n",
    "from pandas import concat\n",
    "from sklearn.preprocessing import MinMaxScaler\n",
    "from sklearn.preprocessing import LabelEncoder\n",
    "from sklearn.metrics import mean_squared_error\n",
    "from keras.models import Sequential\n",
    "from keras.layers import Dense\n",
    "from keras.layers import LSTM\n",
    "from pandas import read_csv\n",
    "from datetime import datetime"
   ]
  },
  {
   "cell_type": "markdown",
   "metadata": {},
   "source": [
    "## num_hours_past\n",
    "how far the model looks into the past\n",
    "\n",
    "## num_hours_future\n",
    "how far the model predicts in the future\n",
    "\n",
    "## train_test_ratio\n",
    "The first train_test_ratio portion of the data is used as training, the remainder as testing\n",
    "\n",
    "Change these variables below"
   ]
  },
  {
   "cell_type": "code",
   "execution_count": 162,
   "metadata": {},
   "outputs": [],
   "source": [
    "num_hours_past = 100\n",
    "num_hours_future = 1\n",
    "\n",
    "train_test_ratio = 0.6666666"
   ]
  },
  {
   "cell_type": "code",
   "execution_count": 163,
   "metadata": {},
   "outputs": [],
   "source": [
    "def get_cols_to_drop(reframed):\n",
    "    lst = []\n",
    "\n",
    "    total_length = len(reframed.columns)\n",
    "\n",
    "    var_idx = list(reframed.columns).index('var1(t)')\n",
    "\n",
    "    #reframed.columns[num]\n",
    "\n",
    "    for i in range(var_idx, total_length):\n",
    "        if i%8 != 0:\n",
    "            lst.append(reframed.columns[i])\n",
    "            \n",
    "    return lst\n",
    "\n",
    "# load data\n",
    "def parse(x):\n",
    "    return datetime.strptime(x, '%Y %m %d %H')\n",
    "\n",
    "# convert series to supervised learning\n",
    "def series_to_supervised(data, n_in=1, n_out=1, dropnan=True):\n",
    "    n_vars = 1 if type(data) is list else data.shape[1]\n",
    "    df = DataFrame(data)\n",
    "    cols, names = list(), list()\n",
    "    # input sequence (t-n, ... t-1)\n",
    "    for i in range(n_in, 0, -1):\n",
    "        cols.append(df.shift(i))\n",
    "        names += [('var%d(t-%d)' % (j+1, i)) for j in range(n_vars)]\n",
    "    # forecast sequence (t, t+1, ... t+n)\n",
    "    for i in range(0, n_out):\n",
    "        cols.append(df.shift(-i))\n",
    "        if i == 0:\n",
    "            names += [('var%d(t)' % (j+1)) for j in range(n_vars)]\n",
    "        else:\n",
    "            names += [('var%d(t+%d)' % (j+1, i)) for j in range(n_vars)]\n",
    "    # put it all together\n",
    "    agg = concat(cols, axis=1)\n",
    "    agg.columns = names\n",
    "    # drop rows with NaN values\n",
    "    if dropnan:\n",
    "        agg.dropna(inplace=True)\n",
    "    return agg\n",
    "\n",
    "\n",
    "\n",
    "def design_network(train_X, tr):\n",
    "    # design network\n",
    "    model = Sequential()\n",
    "    \n",
    "    model.add(LSTM(50, input_shape=(train_X.shape[1], train_X.shape[2])))\n",
    "    \n",
    "    #sets output shape\n",
    "    model.add(Dense(num_hours_future))\n",
    "    model.compile(loss='mae', optimizer='adam')\n",
    "    \n",
    "    return model"
   ]
  },
  {
   "cell_type": "code",
   "execution_count": 164,
   "metadata": {},
   "outputs": [
    {
     "data": {
      "text/plain": [
       "\"\\ndataset = read_csv('PRSA_data_2010.1.1-2014.12.31.csv',  parse_dates = [['year', 'month', 'day', 'hour']], index_col=0, date_parser=parse)\\ndataset.drop('No', axis=1, inplace=True)\\n\\ndataset.columns = ['pollution', 'dew', 'temp', 'press', 'wnd_dir', 'wnd_spd', 'snow', 'rain']\\ndataset.index.name = 'date'\\n\\ndataset['pollution'].fillna(0, inplace=True)\\ndataset = dataset[24:]\\n\\ndataset.to_csv('pollution.csv')\\n\""
      ]
     },
     "execution_count": 164,
     "metadata": {},
     "output_type": "execute_result"
    }
   ],
   "source": [
    "'''\n",
    "dataset = read_csv('PRSA_data_2010.1.1-2014.12.31.csv',  parse_dates = [['year', 'month', 'day', 'hour']], index_col=0, date_parser=parse)\n",
    "dataset.drop('No', axis=1, inplace=True)\n",
    "\n",
    "dataset.columns = ['pollution', 'dew', 'temp', 'press', 'wnd_dir', 'wnd_spd', 'snow', 'rain']\n",
    "dataset.index.name = 'date'\n",
    "\n",
    "dataset['pollution'].fillna(0, inplace=True)\n",
    "dataset = dataset[24:]\n",
    "\n",
    "dataset.to_csv('pollution.csv')\n",
    "'''"
   ]
  },
  {
   "cell_type": "code",
   "execution_count": 165,
   "metadata": {},
   "outputs": [],
   "source": [
    "# load dataset\n",
    "dataset = read_csv('pollution.csv', header=0, index_col=0)\n",
    "values = dataset.values\n",
    "# integer encode direction\n",
    "encoder = LabelEncoder()\n",
    "values[:,4] = encoder.fit_transform(values[:,4])\n",
    "# ensure all data is float\n",
    "values = values.astype('float32')"
   ]
  },
  {
   "cell_type": "code",
   "execution_count": 166,
   "metadata": {},
   "outputs": [
    {
     "data": {
      "text/plain": [
       "array([[0.12977867],\n",
       "       [0.14889336],\n",
       "       [0.15995975],\n",
       "       ...,\n",
       "       [0.01006036],\n",
       "       [0.00804829],\n",
       "       [0.01207243]], dtype=float32)"
      ]
     },
     "execution_count": 166,
     "metadata": {},
     "output_type": "execute_result"
    }
   ],
   "source": [
    "target_values = values[:, 0].reshape(-1, 1)\n",
    "target_scaler = MinMaxScaler(feature_range=(0, 1))\n",
    "target_scaler.fit_transform(target_values)"
   ]
  },
  {
   "cell_type": "code",
   "execution_count": 167,
   "metadata": {},
   "outputs": [],
   "source": [
    "# normalize features\n",
    "scaler = MinMaxScaler(feature_range=(0, 1))\n",
    "scaled = scaler.fit_transform(values)\n",
    "\n",
    "# frame as supervised learning\n",
    "reframed = series_to_supervised(scaled, num_hours_past, num_hours_future)\n",
    "\n",
    "reframed.drop(get_cols_to_drop(reframed), axis=1, inplace=True)\n",
    "values = reframed.values"
   ]
  },
  {
   "cell_type": "code",
   "execution_count": 168,
   "metadata": {},
   "outputs": [],
   "source": [
    "num_train_hours = int(len(values)*train_test_ratio)\n",
    "\n",
    "\n",
    "train = values[:num_train_hours, :]\n",
    "train_X, train_y = train[:, :-num_hours_past], train[:, -num_hours_future:]\n",
    "\n",
    "test = values[num_train_hours:, :]\n",
    "test_X, test_y = test[:, :-num_hours_past], test[:, -num_hours_future:]"
   ]
  },
  {
   "cell_type": "code",
   "execution_count": 169,
   "metadata": {},
   "outputs": [
    {
     "name": "stdout",
     "output_type": "stream",
     "text": [
      "(29133, 701)\n",
      "(29133, 1)\n",
      "(14567, 701)\n",
      "(14567, 1)\n"
     ]
    }
   ],
   "source": [
    "print(train_X.shape)\n",
    "print(train_y.shape)\n",
    "print(test_X.shape)\n",
    "print(test_y.shape)"
   ]
  },
  {
   "cell_type": "code",
   "execution_count": 170,
   "metadata": {},
   "outputs": [
    {
     "name": "stdout",
     "output_type": "stream",
     "text": [
      "(29133, 1, 701) (29133, 1) (14567, 1, 701) (14567, 1)\n"
     ]
    }
   ],
   "source": [
    "# reshape input to be 3D [samples, timesteps, features]\n",
    "train_X = train_X.reshape((train_X.shape[0], 1, train_X.shape[1]))\n",
    "test_X = test_X.reshape((test_X.shape[0], 1, test_X.shape[1]))\n",
    "\n",
    "print(train_X.shape, train_y.shape, test_X.shape, test_y.shape)"
   ]
  },
  {
   "cell_type": "code",
   "execution_count": 171,
   "metadata": {},
   "outputs": [
    {
     "name": "stdout",
     "output_type": "stream",
     "text": [
      "Train on 29133 samples, validate on 14567 samples\n",
      "Epoch 1/50\n",
      "29133/29133 [==============================] - 3s 98us/step - loss: 0.0707 - val_loss: 0.0590\n",
      "Epoch 2/50\n",
      "29133/29133 [==============================] - 1s 51us/step - loss: 0.0628 - val_loss: 0.0608\n",
      "Epoch 3/50\n",
      "29133/29133 [==============================] - 2s 58us/step - loss: 0.0606 - val_loss: 0.0584\n",
      "Epoch 4/50\n",
      "29133/29133 [==============================] - 2s 53us/step - loss: 0.0591 - val_loss: 0.0614\n",
      "Epoch 5/50\n",
      "29133/29133 [==============================] - 1s 49us/step - loss: 0.0582 - val_loss: 0.0644\n",
      "Epoch 6/50\n",
      "29133/29133 [==============================] - 2s 60us/step - loss: 0.0577 - val_loss: 0.0589\n",
      "Epoch 7/50\n",
      "29133/29133 [==============================] - 2s 63us/step - loss: 0.0573 - val_loss: 0.0582\n",
      "Epoch 8/50\n",
      "29133/29133 [==============================] - 1s 51us/step - loss: 0.0569 - val_loss: 0.0573\n",
      "Epoch 9/50\n",
      "29133/29133 [==============================] - 2s 52us/step - loss: 0.0569 - val_loss: 0.0572\n",
      "Epoch 10/50\n",
      "29133/29133 [==============================] - 1s 51us/step - loss: 0.0565 - val_loss: 0.0566\n",
      "Epoch 11/50\n",
      "29133/29133 [==============================] - 1s 51us/step - loss: 0.0561 - val_loss: 0.0566\n",
      "Epoch 12/50\n",
      "29133/29133 [==============================] - 1s 48us/step - loss: 0.0562 - val_loss: 0.0578\n",
      "Epoch 13/50\n",
      "29133/29133 [==============================] - 1s 49us/step - loss: 0.0558 - val_loss: 0.0579\n",
      "Epoch 14/50\n",
      "29133/29133 [==============================] - 1s 51us/step - loss: 0.0556 - val_loss: 0.0580\n",
      "Epoch 15/50\n",
      "29133/29133 [==============================] - 1s 49us/step - loss: 0.0553 - val_loss: 0.0576\n",
      "Epoch 16/50\n",
      "29133/29133 [==============================] - 1s 50us/step - loss: 0.0551 - val_loss: 0.0572\n",
      "Epoch 17/50\n",
      "29133/29133 [==============================] - 1s 51us/step - loss: 0.0554 - val_loss: 0.0575\n",
      "Epoch 18/50\n",
      "29133/29133 [==============================] - 1s 49us/step - loss: 0.0549 - val_loss: 0.0571\n",
      "Epoch 19/50\n",
      "29133/29133 [==============================] - 1s 50us/step - loss: 0.0548 - val_loss: 0.0572\n",
      "Epoch 20/50\n",
      "29133/29133 [==============================] - 1s 51us/step - loss: 0.0545 - val_loss: 0.0572\n",
      "Epoch 21/50\n",
      "29133/29133 [==============================] - 2s 52us/step - loss: 0.0544 - val_loss: 0.0570\n",
      "Epoch 22/50\n",
      "29133/29133 [==============================] - 1s 51us/step - loss: 0.0542 - val_loss: 0.0568\n",
      "Epoch 23/50\n",
      "29133/29133 [==============================] - 1s 51us/step - loss: 0.0542 - val_loss: 0.0573\n",
      "Epoch 24/50\n",
      "29133/29133 [==============================] - 2s 52us/step - loss: 0.0540 - val_loss: 0.0576\n",
      "Epoch 25/50\n",
      "29133/29133 [==============================] - 2s 53us/step - loss: 0.0538 - val_loss: 0.0576\n",
      "Epoch 26/50\n",
      "29133/29133 [==============================] - 2s 52us/step - loss: 0.0538 - val_loss: 0.0571\n",
      "Epoch 27/50\n",
      "29133/29133 [==============================] - 2s 58us/step - loss: 0.0537 - val_loss: 0.0570\n",
      "Epoch 28/50\n",
      "29133/29133 [==============================] - 2s 55us/step - loss: 0.0535 - val_loss: 0.0574\n",
      "Epoch 29/50\n",
      "29133/29133 [==============================] - 2s 56us/step - loss: 0.0534 - val_loss: 0.0573\n",
      "Epoch 30/50\n",
      "29133/29133 [==============================] - 2s 52us/step - loss: 0.0534 - val_loss: 0.0582\n",
      "Epoch 31/50\n",
      "29133/29133 [==============================] - 1s 50us/step - loss: 0.0533 - val_loss: 0.0575\n",
      "Epoch 32/50\n",
      "29133/29133 [==============================] - 2s 52us/step - loss: 0.0534 - val_loss: 0.0581\n",
      "Epoch 33/50\n",
      "29133/29133 [==============================] - 2s 54us/step - loss: 0.0531 - val_loss: 0.0579\n",
      "Epoch 34/50\n",
      "29133/29133 [==============================] - 2s 55us/step - loss: 0.0529 - val_loss: 0.0574\n",
      "Epoch 35/50\n",
      "29133/29133 [==============================] - 1s 50us/step - loss: 0.0530 - val_loss: 0.0573\n",
      "Epoch 36/50\n",
      "29133/29133 [==============================] - 1s 50us/step - loss: 0.0528 - val_loss: 0.0585\n",
      "Epoch 37/50\n",
      "29133/29133 [==============================] - 2s 53us/step - loss: 0.0527 - val_loss: 0.0570\n",
      "Epoch 38/50\n",
      "29133/29133 [==============================] - 2s 52us/step - loss: 0.0526 - val_loss: 0.0581\n",
      "Epoch 39/50\n",
      "29133/29133 [==============================] - 1s 51us/step - loss: 0.0526 - val_loss: 0.0573\n",
      "Epoch 40/50\n",
      "29133/29133 [==============================] - 2s 53us/step - loss: 0.0524 - val_loss: 0.0575\n",
      "Epoch 41/50\n",
      "29133/29133 [==============================] - 2s 52us/step - loss: 0.0525 - val_loss: 0.0578\n",
      "Epoch 42/50\n",
      "29133/29133 [==============================] - 1s 50us/step - loss: 0.0523 - val_loss: 0.0584\n",
      "Epoch 43/50\n",
      "29133/29133 [==============================] - 2s 53us/step - loss: 0.0523 - val_loss: 0.0584\n",
      "Epoch 44/50\n",
      "29133/29133 [==============================] - 2s 59us/step - loss: 0.0522 - val_loss: 0.0577\n",
      "Epoch 45/50\n",
      "29133/29133 [==============================] - 2s 54us/step - loss: 0.0521 - val_loss: 0.0565\n",
      "Epoch 46/50\n",
      "29133/29133 [==============================] - 2s 67us/step - loss: 0.0522 - val_loss: 0.0562\n",
      "Epoch 47/50\n",
      "29133/29133 [==============================] - 2s 81us/step - loss: 0.0520 - val_loss: 0.0563\n",
      "Epoch 48/50\n",
      "29133/29133 [==============================] - 2s 68us/step - loss: 0.0520 - val_loss: 0.0559\n",
      "Epoch 49/50\n",
      "29133/29133 [==============================] - 2s 52us/step - loss: 0.0519 - val_loss: 0.0563\n",
      "Epoch 50/50\n",
      "29133/29133 [==============================] - 2s 54us/step - loss: 0.0521 - val_loss: 0.0575\n"
     ]
    }
   ],
   "source": [
    "model = design_network(train_X, train_y)\n",
    "\n",
    "history = model.fit(train_X, train_y, epochs=50, batch_size=72, validation_data=(test_X, test_y), verbose=1, shuffle=False)"
   ]
  },
  {
   "cell_type": "code",
   "execution_count": 172,
   "metadata": {},
   "outputs": [
    {
     "data": {
      "image/png": "[encoded data removed]",
      "text/plain": [
       "<Figure size 432x288 with 1 Axes>"
      ]
     },
     "metadata": {
      "needs_background": "light"
     },
     "output_type": "display_data"
    }
   ],
   "source": [
    "# plot history\n",
    "pyplot.plot(history.history['loss'], label='train')\n",
    "pyplot.plot(history.history['val_loss'], label='test')\n",
    "pyplot.legend()\n",
    "pyplot.show()"
   ]
  },
  {
   "cell_type": "code",
   "execution_count": 173,
   "metadata": {},
   "outputs": [],
   "source": [
    "yhat = model.predict(test_X)"
   ]
  },
  {
   "cell_type": "code",
   "execution_count": 174,
   "metadata": {},
   "outputs": [],
   "source": [
    "inv_yhat = target_scaler.inverse_transform(yhat)\n",
    "inv_y = target_scaler.inverse_transform(test_y)"
   ]
  },
  {
   "cell_type": "code",
   "execution_count": 175,
   "metadata": {},
   "outputs": [
    {
     "name": "stdout",
     "output_type": "stream",
     "text": [
      "Test RMSE: 84.393\n"
     ]
    }
   ],
   "source": [
    "rmse = sqrt(mean_squared_error(inv_y, inv_yhat))\n",
    "print('Test RMSE: %.3f' % rmse)"
   ]
  },
  {
   "cell_type": "code",
   "execution_count": null,
   "metadata": {},
   "outputs": [],
   "source": []
  }
 ],
 "metadata": {
  "kernelspec": {
   "display_name": "Python 3",
   "language": "python",
   "name": "python3"
  },
  "language_info": {
   "codemirror_mode": {
    "name": "ipython",
    "version": 3
   },
   "file_extension": ".py",
   "mimetype": "text/x-python",
   "name": "python",
   "nbconvert_exporter": "python",
   "pygments_lexer": "ipython3",
   "version": "3.7.3"
  }
 },
 "nbformat": 4,
 "nbformat_minor": 2
}
