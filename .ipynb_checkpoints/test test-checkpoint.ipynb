{
 "cells": [
  {
   "cell_type": "code",
   "execution_count": 53,
   "metadata": {},
   "outputs": [],
   "source": [
    "from math import sqrt\n",
    "from numpy import concatenate\n",
    "from matplotlib import pyplot\n",
    "from pandas import read_csv\n",
    "from pandas import DataFrame\n",
    "from pandas import concat\n",
    "from sklearn.preprocessing import MinMaxScaler\n",
    "from sklearn.preprocessing import LabelEncoder\n",
    "from sklearn.metrics import mean_squared_error\n",
    "from keras.models import Sequential\n",
    "from keras.layers import Dense\n",
    "from keras.layers import LSTM"
   ]
  },
  {
   "cell_type": "code",
   "execution_count": 54,
   "metadata": {},
   "outputs": [],
   "source": [
    "def get_cols_to_drop(reframed):\n",
    "    lst = []\n",
    "\n",
    "    total_length = len(reframed.columns)\n",
    "\n",
    "    var_idx = list(reframed.columns).index('var1(t)')\n",
    "\n",
    "    reframed.columns[num]\n",
    "\n",
    "    for i in range(var_idx, total_length):\n",
    "        if i%8 != 0:\n",
    "            lst.append(reframed.columns[i])\n",
    "            \n",
    "    return lst"
   ]
  },
  {
   "cell_type": "code",
   "execution_count": 55,
   "metadata": {},
   "outputs": [
    {
     "name": "stdout",
     "output_type": "stream",
     "text": [
      "                     pollution  dew  temp   press wnd_dir  wnd_spd  snow  rain\n",
      "date                                                                          \n",
      "2010-01-02 00:00:00      129.0  -16  -4.0  1020.0      SE     1.79     0     0\n",
      "2010-01-02 01:00:00      148.0  -15  -4.0  1020.0      SE     2.68     0     0\n",
      "2010-01-02 02:00:00      159.0  -11  -5.0  1021.0      SE     3.57     0     0\n",
      "2010-01-02 03:00:00      181.0   -7  -5.0  1022.0      SE     5.36     1     0\n",
      "2010-01-02 04:00:00      138.0   -7  -5.0  1022.0      SE     6.25     2     0\n"
     ]
    }
   ],
   "source": [
    "from pandas import read_csv\n",
    "from datetime import datetime\n",
    "\n",
    "# load data\n",
    "def parse(x):\n",
    "    return datetime.strptime(x, '%Y %m %d %H')\n",
    "\n",
    "dataset = read_csv('PRSA_data_2010.1.1-2014.12.31.csv',  parse_dates = [['year', 'month', 'day', 'hour']], index_col=0, date_parser=parse)\n",
    "dataset.drop('No', axis=1, inplace=True)\n",
    "# manually specify column names\n",
    "dataset.columns = ['pollution', 'dew', 'temp', 'press', 'wnd_dir', 'wnd_spd', 'snow', 'rain']\n",
    "dataset.index.name = 'date'\n",
    "# mark all NA values with 0\n",
    "dataset['pollution'].fillna(0, inplace=True)\n",
    "# drop the first 24 hours\n",
    "dataset = dataset[24:]\n",
    "# summarize first 5 rows\n",
    "print(dataset.head(5))\n",
    "# save to file\n",
    "dataset.to_csv('pollution.csv')"
   ]
  },
  {
   "cell_type": "code",
   "execution_count": 56,
   "metadata": {},
   "outputs": [],
   "source": [
    "# convert series to supervised learning\n",
    "def series_to_supervised(data, n_in=1, n_out=1, dropnan=True):\n",
    "    n_vars = 1 if type(data) is list else data.shape[1]\n",
    "    df = DataFrame(data)\n",
    "    cols, names = list(), list()\n",
    "    # input sequence (t-n, ... t-1)\n",
    "    for i in range(n_in, 0, -1):\n",
    "        cols.append(df.shift(i))\n",
    "        names += [('var%d(t-%d)' % (j+1, i)) for j in range(n_vars)]\n",
    "    # forecast sequence (t, t+1, ... t+n)\n",
    "    for i in range(0, n_out):\n",
    "        cols.append(df.shift(-i))\n",
    "        if i == 0:\n",
    "            names += [('var%d(t)' % (j+1)) for j in range(n_vars)]\n",
    "        else:\n",
    "            names += [('var%d(t+%d)' % (j+1, i)) for j in range(n_vars)]\n",
    "    # put it all together\n",
    "    agg = concat(cols, axis=1)\n",
    "    agg.columns = names\n",
    "    # drop rows with NaN values\n",
    "    if dropnan:\n",
    "        agg.dropna(inplace=True)\n",
    "    return agg\n",
    " \n",
    "# load dataset\n",
    "dataset = read_csv('pollution.csv', header=0, index_col=0)\n",
    "values = dataset.values\n",
    "# integer encode direction\n",
    "encoder = LabelEncoder()\n",
    "values[:,4] = encoder.fit_transform(values[:,4])\n",
    "# ensure all data is float\n",
    "values = values.astype('float32')\n",
    "# normalize features\n",
    "scaler = MinMaxScaler(feature_range=(0, 1))"
   ]
  },
  {
   "cell_type": "code",
   "execution_count": 57,
   "metadata": {},
   "outputs": [
    {
     "data": {
      "text/plain": [
       "array([[0.12977867],\n",
       "       [0.14889336],\n",
       "       [0.15995975],\n",
       "       ...,\n",
       "       [0.01006036],\n",
       "       [0.00804829],\n",
       "       [0.01207243]], dtype=float32)"
      ]
     },
     "execution_count": 57,
     "metadata": {},
     "output_type": "execute_result"
    }
   ],
   "source": [
    "target_values = values[:, 0].reshape(-1, 1)\n",
    "target_scaler = MinMaxScaler(feature_range=(0, 1))\n",
    "target_scaler.fit_transform(target_values)"
   ]
  },
  {
   "cell_type": "code",
   "execution_count": 34,
   "metadata": {},
   "outputs": [
    {
     "data": {
      "text/plain": [
       "Index(['var1(t-2)', 'var2(t-2)', 'var3(t-2)', 'var4(t-2)', 'var5(t-2)',\n",
       "       'var6(t-2)', 'var7(t-2)', 'var8(t-2)', 'var1(t-1)', 'var2(t-1)',\n",
       "       'var3(t-1)', 'var4(t-1)', 'var5(t-1)', 'var6(t-1)', 'var7(t-1)',\n",
       "       'var8(t-1)', 'var1(t)'],\n",
       "      dtype='object')"
      ]
     },
     "execution_count": 34,
     "metadata": {},
     "output_type": "execute_result"
    }
   ],
   "source": [
    "scaled = scaler.fit_transform(values)\n",
    "\n",
    "# frame as supervised learning\n",
    "reframed = series_to_supervised(scaled, 2, 1)\n",
    "\n",
    "# drop columns we don't want to predict\n",
    "reframed.drop(get_cols_to_drop(reframed), axis=1, inplace=True)\n",
    "\n",
    "\n",
    "#reframed = scaler.fit_transform(reframed)\n",
    "#print(reframed.head())\n",
    "reframed.columns"
   ]
  },
  {
   "cell_type": "code",
   "execution_count": 35,
   "metadata": {},
   "outputs": [
    {
     "data": {
      "text/plain": [
       "Index(['var1(t-2)', 'var2(t-2)', 'var3(t-2)', 'var4(t-2)', 'var5(t-2)',\n",
       "       'var6(t-2)', 'var7(t-2)', 'var8(t-2)', 'var1(t-1)', 'var2(t-1)',\n",
       "       'var3(t-1)', 'var4(t-1)', 'var5(t-1)', 'var6(t-1)', 'var7(t-1)',\n",
       "       'var8(t-1)', 'var1(t)', 'var2(t)', 'var3(t)', 'var4(t)', 'var5(t)',\n",
       "       'var6(t)', 'var7(t)', 'var8(t)', 'var1(t+1)', 'var2(t+1)', 'var3(t+1)',\n",
       "       'var4(t+1)', 'var5(t+1)', 'var6(t+1)', 'var7(t+1)', 'var8(t+1)'],\n",
       "      dtype='object')"
      ]
     },
     "execution_count": 35,
     "metadata": {},
     "output_type": "execute_result"
    }
   ],
   "source": [
    "scaled = scaler.fit_transform(values)\n",
    "\n",
    "# frame as supervised learning\n",
    "reframed = series_to_supervised(scaled, 2, 2)\n",
    "\n",
    "# drop columns we don't want to predict\n",
    "#reframed.drop(['var2(t)', 'var3(t)', 'var4(t)', 'var5(t)', 'var6(t)', 'var7(t)','var8(t)',\n",
    "       #        'var2(t+1)', 'var3(t+1)','var4(t+1)', 'var5(t+1)', 'var6(t+1)', 'var7(t+1)', 'var8(t+1)'], \n",
    "       #       axis=1, inplace=True)\n",
    "\n",
    "\n",
    "#reframed = scaler.fit_transform(reframed)\n",
    "#print(reframed.head())\n",
    "\n",
    "\n"
   ]
  },
  {
   "cell_type": "code",
   "execution_count": 52,
   "metadata": {},
   "outputs": [
    {
     "name": "stdout",
     "output_type": "stream",
     "text": [
      "var2(t)\n",
      "var3(t)\n",
      "var4(t)\n",
      "var5(t)\n",
      "var6(t)\n",
      "var7(t)\n",
      "var8(t)\n",
      "var2(t+1)\n",
      "var3(t+1)\n",
      "var4(t+1)\n",
      "var5(t+1)\n",
      "var6(t+1)\n",
      "var7(t+1)\n",
      "var8(t+1)\n"
     ]
    }
   ],
   "source": []
  },
  {
   "cell_type": "code",
   "execution_count": 25,
   "metadata": {},
   "outputs": [
    {
     "name": "stdout",
     "output_type": "stream",
     "text": [
      "(8760, 1, 17) (8760,) (35037, 1, 17) (35037,)\n"
     ]
    }
   ],
   "source": [
    "# split into train and test sets\n",
    "values = reframed.values\n",
    "n_train_hours = 365 * 24\n",
    "train = values[:n_train_hours, :]\n",
    "test = values[n_train_hours:, :]\n",
    "# split into input and outputs\n",
    "train_X, train_y = train[:, :-1], train[:, -1]\n",
    "test_X, test_y = test[:, :-1], test[:, -1]\n",
    "# reshape input to be 3D [samples, timesteps, features]\n",
    "train_X = train_X.reshape((train_X.shape[0], 1, train_X.shape[1]))\n",
    "test_X = test_X.reshape((test_X.shape[0], 1, test_X.shape[1]))\n",
    "print(train_X.shape, train_y.shape, test_X.shape, test_y.shape)"
   ]
  },
  {
   "cell_type": "code",
   "execution_count": 26,
   "metadata": {},
   "outputs": [
    {
     "name": "stdout",
     "output_type": "stream",
     "text": [
      "Train on 8760 samples, validate on 35037 samples\n",
      "Epoch 1/50\n",
      " - 1s - loss: 0.0564 - val_loss: 0.0447\n",
      "Epoch 2/50\n",
      " - 0s - loss: 0.0249 - val_loss: 0.0332\n",
      "Epoch 3/50\n",
      " - 0s - loss: 0.0202 - val_loss: 0.0211\n",
      "Epoch 4/50\n",
      " - 0s - loss: 0.0192 - val_loss: 0.0186\n",
      "Epoch 5/50\n",
      " - 0s - loss: 0.0187 - val_loss: 0.0175\n",
      "Epoch 6/50\n",
      " - 0s - loss: 0.0182 - val_loss: 0.0169\n",
      "Epoch 7/50\n",
      " - 0s - loss: 0.0176 - val_loss: 0.0164\n",
      "Epoch 8/50\n",
      " - 0s - loss: 0.0170 - val_loss: 0.0158\n",
      "Epoch 9/50\n",
      " - 1s - loss: 0.0167 - val_loss: 0.0154\n",
      "Epoch 10/50\n",
      " - 0s - loss: 0.0164 - val_loss: 0.0150\n",
      "Epoch 11/50\n",
      " - 0s - loss: 0.0164 - val_loss: 0.0150\n",
      "Epoch 12/50\n",
      " - 1s - loss: 0.0158 - val_loss: 0.0144\n",
      "Epoch 13/50\n",
      " - 1s - loss: 0.0162 - val_loss: 0.0147\n",
      "Epoch 14/50\n",
      " - 1s - loss: 0.0154 - val_loss: 0.0141\n",
      "Epoch 15/50\n",
      " - 1s - loss: 0.0158 - val_loss: 0.0144\n",
      "Epoch 16/50\n",
      " - 1s - loss: 0.0155 - val_loss: 0.0143\n",
      "Epoch 17/50\n",
      " - 0s - loss: 0.0152 - val_loss: 0.0140\n",
      "Epoch 18/50\n",
      " - 1s - loss: 0.0155 - val_loss: 0.0142\n",
      "Epoch 19/50\n",
      " - 1s - loss: 0.0151 - val_loss: 0.0139\n",
      "Epoch 20/50\n",
      " - 1s - loss: 0.0154 - val_loss: 0.0141\n",
      "Epoch 21/50\n",
      " - 1s - loss: 0.0150 - val_loss: 0.0139\n",
      "Epoch 22/50\n",
      " - 1s - loss: 0.0152 - val_loss: 0.0141\n",
      "Epoch 23/50\n",
      " - 0s - loss: 0.0151 - val_loss: 0.0140\n",
      "Epoch 24/50\n",
      " - 1s - loss: 0.0151 - val_loss: 0.0139\n",
      "Epoch 25/50\n",
      " - 0s - loss: 0.0149 - val_loss: 0.0138\n",
      "Epoch 26/50\n",
      " - 0s - loss: 0.0150 - val_loss: 0.0138\n",
      "Epoch 27/50\n",
      " - 1s - loss: 0.0150 - val_loss: 0.0139\n",
      "Epoch 28/50\n",
      " - 1s - loss: 0.0150 - val_loss: 0.0141\n",
      "Epoch 29/50\n",
      " - 1s - loss: 0.0149 - val_loss: 0.0140\n",
      "Epoch 30/50\n",
      " - 0s - loss: 0.0149 - val_loss: 0.0140\n",
      "Epoch 31/50\n",
      " - 0s - loss: 0.0148 - val_loss: 0.0141\n",
      "Epoch 32/50\n",
      " - 0s - loss: 0.0148 - val_loss: 0.0142\n",
      "Epoch 33/50\n",
      " - 0s - loss: 0.0148 - val_loss: 0.0142\n",
      "Epoch 34/50\n",
      " - 0s - loss: 0.0146 - val_loss: 0.0146\n",
      "Epoch 35/50\n",
      " - 0s - loss: 0.0146 - val_loss: 0.0144\n",
      "Epoch 36/50\n",
      " - 1s - loss: 0.0147 - val_loss: 0.0150\n",
      "Epoch 37/50\n",
      " - 0s - loss: 0.0147 - val_loss: 0.0141\n",
      "Epoch 38/50\n",
      " - 1s - loss: 0.0145 - val_loss: 0.0148\n",
      "Epoch 39/50\n",
      " - 1s - loss: 0.0146 - val_loss: 0.0144\n",
      "Epoch 40/50\n",
      " - 1s - loss: 0.0145 - val_loss: 0.0147\n",
      "Epoch 41/50\n",
      " - 1s - loss: 0.0146 - val_loss: 0.0149\n",
      "Epoch 42/50\n",
      " - 1s - loss: 0.0146 - val_loss: 0.0147\n",
      "Epoch 43/50\n",
      " - 1s - loss: 0.0147 - val_loss: 0.0141\n",
      "Epoch 44/50\n",
      " - 1s - loss: 0.0144 - val_loss: 0.0150\n",
      "Epoch 45/50\n",
      " - 1s - loss: 0.0146 - val_loss: 0.0142\n",
      "Epoch 46/50\n",
      " - 1s - loss: 0.0144 - val_loss: 0.0141\n",
      "Epoch 47/50\n",
      " - 0s - loss: 0.0146 - val_loss: 0.0140\n",
      "Epoch 48/50\n",
      " - 0s - loss: 0.0144 - val_loss: 0.0142\n",
      "Epoch 49/50\n",
      " - 0s - loss: 0.0146 - val_loss: 0.0143\n",
      "Epoch 50/50\n",
      " - 0s - loss: 0.0145 - val_loss: 0.0142\n"
     ]
    },
    {
     "data": {
      "image/png": "[encoded data removed]",
      "text/plain": [
       "<Figure size 432x288 with 1 Axes>"
      ]
     },
     "metadata": {
      "needs_background": "light"
     },
     "output_type": "display_data"
    }
   ],
   "source": [
    "# design network\n",
    "model = Sequential()\n",
    "model.add(LSTM(50, input_shape=(train_X.shape[1], train_X.shape[2])))\n",
    "model.add(Dense(1))\n",
    "model.compile(loss='mae', optimizer='adam')\n",
    "# fit network\n",
    "history = model.fit(train_X, train_y, epochs=50, batch_size=72, validation_data=(test_X, test_y), verbose=2, shuffle=False)\n",
    "# plot history\n",
    "pyplot.plot(history.history['loss'], label='train')\n",
    "pyplot.plot(history.history['val_loss'], label='test')\n",
    "pyplot.legend()\n",
    "pyplot.show()"
   ]
  },
  {
   "cell_type": "code",
   "execution_count": 27,
   "metadata": {},
   "outputs": [],
   "source": [
    "# make a prediction\n",
    "yhat = model.predict(test_X)\n",
    "\n",
    "inv_yhat = target_scaler.inverse_transform(yhat)\n",
    "inv_y = target_scaler.inverse_transform(test_y.reshape(-1, 1))"
   ]
  },
  {
   "cell_type": "code",
   "execution_count": 28,
   "metadata": {},
   "outputs": [
    {
     "name": "stdout",
     "output_type": "stream",
     "text": [
      "Test RMSE: 26.979\n"
     ]
    }
   ],
   "source": [
    "rmse = sqrt(mean_squared_error(inv_y, inv_yhat))\n",
    "print('Test RMSE: %.3f' % rmse)"
   ]
  },
  {
   "cell_type": "code",
   "execution_count": 36,
   "metadata": {},
   "outputs": [
    {
     "data": {
      "text/plain": [
       "No                   int64\n",
       "pm2.5              float64\n",
       "DEWP                 int64\n",
       "TEMP               float64\n",
       "PRES               float64\n",
       "cbwd                object\n",
       "Iws                float64\n",
       "Is                   int64\n",
       "Ir                   int64\n",
       "datetime    datetime64[ns]\n",
       "dtype: object"
      ]
     },
     "execution_count": 36,
     "metadata": {},
     "output_type": "execute_result"
    }
   ],
   "source": [
    "#TODO\n",
    "#One-hot encoding wind direction.\n",
    "#Making all series stationary with differencing and seasonal adjustment.\n",
    "#Providing more than 1 hour of input time steps"
   ]
  }
 ],
 "metadata": {
  "kernelspec": {
   "display_name": "Python 3",
   "language": "python",
   "name": "python3"
  },
  "language_info": {
   "codemirror_mode": {
    "name": "ipython",
    "version": 3
   },
   "file_extension": ".py",
   "mimetype": "text/x-python",
   "name": "python",
   "nbconvert_exporter": "python",
   "pygments_lexer": "ipython3",
   "version": "3.7.3"
  }
 },
 "nbformat": 4,
 "nbformat_minor": 2
}
